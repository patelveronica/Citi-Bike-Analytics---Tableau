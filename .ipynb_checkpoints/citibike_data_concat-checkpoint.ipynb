{
 "cells": [
  {
   "cell_type": "code",
   "execution_count": 5,
   "id": "f4410434",
   "metadata": {},
   "outputs": [],
   "source": [
    "# load dependancies\n",
    "import os\n",
    "import csv\n",
    "import pandas as pd"
   ]
  },
  {
   "cell_type": "code",
   "execution_count": 10,
   "id": "3e8e2c4e",
   "metadata": {},
   "outputs": [],
   "source": [
    " # read file as csv file \n",
    "jan_path = os.path.join(os.getcwd(), \"Resources\", \"JC-202001-citibike-tripdata.csv\")\n",
    "feb_path = os.path.join(os.getcwd(), \"Resources\", \"JC-202002-citibike-tripdata.csv\")\n",
    "march_path = os.path.join(os.getcwd(), \"Resources\", \"JC-202003-citibike-tripdata.csv\")\n",
    "april_path = os.path.join(os.getcwd(), \"Resources\", \"JC-202004-citibike-tripdata.csv\")\n",
    "may_path = os.path.join(os.getcwd(), \"Resources\", \"JC-202005-citibike-tripdata.csv\")\n",
    "june_path = os.path.join(os.getcwd(), \"Resources\", \"JC-202006-citibike-tripdata.csv\")\n",
    "july_path = os.path.join(os.getcwd(), \"Resources\", \"JC-202007-citibike-tripdata.csv\")\n",
    "august_path = os.path.join(os.getcwd(), \"Resources\", \"JC-202008-citibike-tripdata.csv\")\n",
    "sept_path = os.path.join(os.getcwd(), \"Resources\", \"JC-202009-citibike-tripdata.csv\")\n",
    "oct_path = os.path.join(os.getcwd(), \"Resources\", \"JC-202010-citibike-tripdata.csv\")\n",
    "nov_path = os.path.join(os.getcwd(), \"Resources\", \"JC-202011-citibike-tripdata.csv\")\n",
    "dec_path = os.path.join(os.getcwd(), \"Resources\", \"JC-202012-citibike-tripdata.csv\")"
   ]
  },
  {
   "cell_type": "code",
   "execution_count": 11,
   "id": "9b09b433",
   "metadata": {
    "scrolled": true
   },
   "outputs": [],
   "source": [
    "jan_df = pd.read_csv(jan_path)\n",
    "feb_df = pd.read_csv(feb_path)\n",
    "mar_df = pd.read_csv(march_path)\n",
    "april_df = pd.read_csv(april_path)\n",
    "may_df = pd.read_csv(may_path)\n",
    "june_df = pd.read_csv(june_path)\n",
    "july_df = pd.read_csv(july_path)\n",
    "august_df = pd.read_csv(august_path)\n",
    "sep_df = pd.read_csv(sept_path)\n",
    "oct_df = pd.read_csv(oct_path)\n",
    "nov_df = pd.read_csv(nov_path)\n",
    "dec_df = pd.read_csv(dec_path)\n"
   ]
  },
  {
   "cell_type": "code",
   "execution_count": 12,
   "id": "2b22c818",
   "metadata": {},
   "outputs": [],
   "source": [
    "citidata_2020_df = pd.concat([jan_df, feb_df, mar_df, april_df, may_df, june_df, july_df, august_df, sep_df, oct_df, nov_df, dec_df])"
   ]
  },
  {
   "cell_type": "code",
   "execution_count": 13,
   "id": "c50944fb",
   "metadata": {},
   "outputs": [],
   "source": [
    "citidata_2020_df.to_csv(\"JC-2020-citibike-tripdata.csv\")"
   ]
  },
  {
   "cell_type": "code",
   "execution_count": null,
   "id": "9aace023",
   "metadata": {},
   "outputs": [],
   "source": []
  }
 ],
 "metadata": {
  "kernelspec": {
   "display_name": "Python 3",
   "language": "python",
   "name": "python3"
  },
  "language_info": {
   "codemirror_mode": {
    "name": "ipython",
    "version": 3
   },
   "file_extension": ".py",
   "mimetype": "text/x-python",
   "name": "python",
   "nbconvert_exporter": "python",
   "pygments_lexer": "ipython3",
   "version": "3.8.8"
  }
 },
 "nbformat": 4,
 "nbformat_minor": 5
}
