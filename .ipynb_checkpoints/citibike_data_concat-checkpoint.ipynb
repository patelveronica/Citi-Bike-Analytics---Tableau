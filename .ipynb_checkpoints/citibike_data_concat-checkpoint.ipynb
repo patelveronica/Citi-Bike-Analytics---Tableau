{
 "cells": [
  {
   "cell_type": "code",
   "execution_count": 5,
   "id": "f4410434",
   "metadata": {},
   "outputs": [],
   "source": [
    "# load dependancies\n",
    "import os\n",
    "import csv\n",
    "import pandas as pd"
   ]
  },
  {
   "cell_type": "code",
   "execution_count": 10,
   "id": "3e8e2c4e",
   "metadata": {},
   "outputs": [],
   "source": [
    " # read file as csv file \n",
    "jan_path = os.path.join(os.getcwd(), \"Resources\", \"JC-202001-citibike-tripdata.csv\")\n",
    "feb_path = os.path.join(os.getcwd(), \"Resources\", \"JC-202002-citibike-tripdata.csv\")\n",
    "march_path = os.path.join(os.getcwd(), \"Resources\", \"JC-202003-citibike-tripdata.csv\")\n",
    "april_path = os.path.join(os.getcwd(), \"Resources\", \"JC-202004-citibike-tripdata.csv\")\n",
    "may_path = os.path.join(os.getcwd(), \"Resources\", \"JC-202005-citibike-tripdata.csv\")\n",
    "june_path = os.path.join(os.getcwd(), \"Resources\", \"JC-202006-citibike-tripdata.csv\")\n",
    "july_path = os.path.join(os.getcwd(), \"Resources\", \"JC-202007-citibike-tripdata.csv\")\n",
    "august_path = os.path.join(os.getcwd(), \"Resources\", \"JC-202008-citibike-tripdata.csv\")\n",
    "sept_path = os.path.join(os.getcwd(), \"Resources\", \"JC-202009-citibike-tripdata.csv\")\n",
    "oct_path = os.path.join(os.getcwd(), \"Resources\", \"JC-202010-citibike-tripdata.csv\")\n",
    "nov_path = os.path.join(os.getcwd(), \"Resources\", \"JC-202011-citibike-tripdata.csv\")\n",
    "dec_path = os.path.join(os.getcwd(), \"Resources\", \"JC-202012-citibike-tripdata.csv\")"
   ]
  },
  {
   "cell_type": "code",
   "execution_count": 11,
   "id": "9b09b433",
   "metadata": {
    "scrolled": true
   },
   "outputs": [],
   "source": [
    "jan_df = pd.read_csv(jan_path)\n",
    "feb_df = pd.read_csv(feb_path)\n",
    "mar_df = pd.read_csv(march_path)\n",
    "april_df = pd.read_csv(april_path)\n",
    "may_df = pd.read_csv(may_path)\n",
    "june_df = pd.read_csv(june_path)\n",
    "july_df = pd.read_csv(july_path)\n",
    "august_df = pd.read_csv(august_path)\n",
    "sep_df = pd.read_csv(sept_path)\n",
    "oct_df = pd.read_csv(oct_path)\n",
    "nov_df = pd.read_csv(nov_path)\n",
    "dec_df = pd.read_csv(dec_path)\n"
   ]
  },
  {
   "cell_type": "code",
   "execution_count": 12,
   "id": "2b22c818",
   "metadata": {},
   "outputs": [],
   "source": [
    "citidata_2020_df = pd.concat([jan_df, feb_df, mar_df, april_df, may_df, june_df, july_df, august_df, sep_df, oct_df, nov_df, dec_df])"
   ]
  },
  {
   "cell_type": "code",
   "execution_count": 13,
   "id": "c50944fb",
   "metadata": {},
   "outputs": [],
   "source": [
    "citidata_2020_df.to_csv(\"JC-2020-citibike-tripdata.csv\")"
   ]
  },
  {
   "cell_type": "code",
   "execution_count": 14,
   "id": "be1da7b3",
   "metadata": {},
   "outputs": [
    {
     "name": "stdout",
     "output_type": "stream",
     "text": [
      "       tripduration                 starttime                  stoptime  \\\n",
      "0               146  2020-12-01 00:02:50.1450  2020-12-01 00:05:16.1940   \n",
      "1               572  2020-12-01 00:11:57.3910  2020-12-01 00:21:30.2510   \n",
      "2               387  2020-12-01 00:14:49.3610  2020-12-01 00:21:16.8730   \n",
      "3               188  2020-12-01 00:45:06.3680  2020-12-01 00:48:14.4280   \n",
      "4               594  2020-12-01 01:17:17.0110  2020-12-01 01:27:11.9400   \n",
      "...             ...                       ...                       ...   \n",
      "11689          1750  2020-12-31 23:07:44.0030  2020-12-31 23:36:54.4710   \n",
      "11690          1519  2020-12-31 23:18:00.2630  2020-12-31 23:43:19.8590   \n",
      "11691          1761  2020-12-31 23:31:09.4620  2021-01-01 00:00:31.3290   \n",
      "11692           637  2020-12-31 23:35:45.4640  2020-12-31 23:46:22.7300   \n",
      "11693          1607  2020-12-31 23:48:34.5750  2021-01-01 00:15:22.3090   \n",
      "\n",
      "       start station id start station name  start station latitude  \\\n",
      "0                  3202       Newport PATH               40.727224   \n",
      "1                  3640     Journal Square               40.733670   \n",
      "2                  3640     Journal Square               40.733670   \n",
      "3                  3186      Grove St PATH               40.719586   \n",
      "4                  3212    Christ Hospital               40.734786   \n",
      "...                 ...                ...                     ...   \n",
      "11689              3199       Newport Pkwy               40.728745   \n",
      "11690              3184        Paulus Hook               40.714145   \n",
      "11691              3195            Sip Ave               40.730897   \n",
      "11692              3681           Grand St               40.715178   \n",
      "11693              3267       Morris Canal               40.712419   \n",
      "\n",
      "       start station longitude  end station id end station name  \\\n",
      "0                   -74.033759            3199     Newport Pkwy   \n",
      "1                   -74.062500            3280      Astor Place   \n",
      "2                   -74.062500            3194  McGinley Square   \n",
      "3                   -74.043117            3270  Jersey & 6th St   \n",
      "4                   -74.050444            3209     Brunswick St   \n",
      "...                        ...             ...              ...   \n",
      "11689               -74.032108            3199     Newport Pkwy   \n",
      "11690               -74.033552            3195          Sip Ave   \n",
      "11691               -74.063913            3270  Jersey & 6th St   \n",
      "11692               -74.037683            3199     Newport Pkwy   \n",
      "11693               -74.038526            3267     Morris Canal   \n",
      "\n",
      "       end station latitude  end station longitude  bikeid    usertype  \\\n",
      "0                 40.728745             -74.032108   42308  Subscriber   \n",
      "1                 40.719282             -74.071262   18568  Subscriber   \n",
      "2                 40.725340             -74.067622   44543  Subscriber   \n",
      "3                 40.725289             -74.045572   43098  Subscriber   \n",
      "4                 40.724176             -74.050656   44723  Subscriber   \n",
      "...                     ...                    ...     ...         ...   \n",
      "11689             40.728745             -74.032108   40440    Customer   \n",
      "11690             40.730897             -74.063913   46340    Customer   \n",
      "11691             40.725289             -74.045572   40907    Customer   \n",
      "11692             40.728745             -74.032108   42250    Customer   \n",
      "11693             40.712419             -74.038526   48742  Subscriber   \n",
      "\n",
      "       birth year  gender  \n",
      "0            1989       2  \n",
      "1            1997       2  \n",
      "2            1960       1  \n",
      "3            1998       1  \n",
      "4            1988       1  \n",
      "...           ...     ...  \n",
      "11689        1969       0  \n",
      "11690        1969       0  \n",
      "11691        1998       1  \n",
      "11692        1969       0  \n",
      "11693        1982       1  \n",
      "\n",
      "[11694 rows x 15 columns]\n"
     ]
    }
   ],
   "source": [
    "print(dec_df)"
   ]
  },
  {
   "cell_type": "code",
   "execution_count": null,
   "id": "9aace023",
   "metadata": {},
   "outputs": [],
   "source": []
  }
 ],
 "metadata": {
  "kernelspec": {
   "display_name": "Python 3",
   "language": "python",
   "name": "python3"
  },
  "language_info": {
   "codemirror_mode": {
    "name": "ipython",
    "version": 3
   },
   "file_extension": ".py",
   "mimetype": "text/x-python",
   "name": "python",
   "nbconvert_exporter": "python",
   "pygments_lexer": "ipython3",
   "version": "3.8.8"
  }
 },
 "nbformat": 4,
 "nbformat_minor": 5
}
