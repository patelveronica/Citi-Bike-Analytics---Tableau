{
 "cells": [
  {
   "cell_type": "code",
   "execution_count": 5,
   "id": "51d1fb3a",
   "metadata": {},
   "outputs": [],
   "source": [
    "# load dependancies\n",
    "import os\n",
    "import csv\n",
    "import pandas as pd"
   ]
  },
  {
   "cell_type": "code",
   "execution_count": 6,
   "id": "a4ebd423",
   "metadata": {},
   "outputs": [],
   "source": [
    " # read file as csv file \n",
    "jan_path = os.path.join(os.getcwd(), \"Resources\", \"JC-202001-citibike-tripdata.csv\")\n",
    "feb_path = os.path.join(os.getcwd(), \"Resources\", \"JC-202002-citibike-tripdata.csv\")\n",
    "march_path = os.path.join(os.getcwd(), \"Resources\", \"JC-202003-citibike-tripdata.csv\")\n",
    "april_path = os.path.join(os.getcwd(), \"Resources\", \"JC-202004-citibike-tripdata.csv\")\n",
    "may_path = os.path.join(os.getcwd(), \"Resources\", \"JC-202005-citibike-tripdata.csv\")\n",
    "june_path = os.path.join(os.getcwd(), \"Resources\", \"JC-202006-citibike-tripdata.csv\")\n",
    "july_path = os.path.join(os.getcwd(), \"Resources\", \"JC-202007-citibike-tripdata.csv\")\n",
    "august_path = os.path.join(os.getcwd(), \"Resources\", \"JC-202008-citibike-tripdata.csv\")\n",
    "sept_path = os.path.join(os.getcwd(), \"Resources\", \"JC-202009-citibike-tripdata.csv\")\n",
    "oct_path = os.path.join(os.getcwd(), \"Resources\", \"JC-202010-citibike-tripdata.csv\")\n",
    "nov_path = os.path.join(os.getcwd(), \"Resources\", \"JC-202011-citibike-tripdata.csv\")\n",
    "dec_path = os.path.join(os.getcwd(), \"Resources\", \"JC-202012-citibike-tripdata.csv\")"
   ]
  },
  {
   "cell_type": "code",
   "execution_count": null,
   "id": "40a6a605",
   "metadata": {
    "scrolled": true
   },
   "outputs": [],
   "source": [
    "jan_df = pd.read_csv(jan_path)\n",
    "feb_df = pd.read_csv(feb_path)\n",
    "mar_df = pd.read_csv(march_path)\n",
    "april_df = pd.read_csv(april_path)\n",
    "may_df = pd.read_csv(may_path)\n",
    "june_df = pd.read_csv(june_path)\n",
    "july_df = pd.read_csv(july_path)\n",
    "august_df = pd.read_csv(august_path)\n",
    "sep_df = pd.read_csv(sept_path)\n",
    "oct_df = pd.read_csv(oct_path)\n",
    "nov_df = pd.read_csv(nov_path)\n",
    "dec_df = pd.read_csv(dec_path)\n"
   ]
  },
  {
   "cell_type": "code",
   "execution_count": null,
   "id": "f730ce3e",
   "metadata": {},
   "outputs": [],
   "source": [
    "citidata_2020_df = pd.concat([jan_df, feb_df, mar_df, apr_df, may_df, june_df, july_df, august_df, sep_df, oct_df, nov_df, dec_df])"
   ]
  }
 ],
 "metadata": {
  "kernelspec": {
   "display_name": "Python 3",
   "language": "python",
   "name": "python3"
  },
  "language_info": {
   "codemirror_mode": {
    "name": "ipython",
    "version": 3
   },
   "file_extension": ".py",
   "mimetype": "text/x-python",
   "name": "python",
   "nbconvert_exporter": "python",
   "pygments_lexer": "ipython3",
   "version": "3.8.8"
  }
 },
 "nbformat": 4,
 "nbformat_minor": 5
}
